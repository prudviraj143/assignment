{
 "cells": [
  {
   "cell_type": "code",
   "execution_count": 1,
   "metadata": {},
   "outputs": [
    {
     "name": "stdout",
     "output_type": "stream",
     "text": [
      "Enter the principal amount 98000\n",
      "Enter the time period=10\n",
      "Enter the Rate of Interest=8\n",
      "Simple Interest is 78400.0\n"
     ]
    }
   ],
   "source": [
    "p=float(input(\"Enter the principal amount \"))\n",
    "t=float(input(\"Enter the time period=\"))\n",
    "r=float(input(\"Enter the Rate of Interest=\"))\n",
    "si=(p*t*r)/100\n",
    "print(\"Simple Interest is\",si)"
   ]
  },
  {
   "cell_type": "code",
   "execution_count": null,
   "metadata": {},
   "outputs": [],
   "source": []
  }
 ],
 "metadata": {
  "kernelspec": {
   "display_name": "Python 3",
   "language": "python",
   "name": "python3"
  },
  "language_info": {
   "codemirror_mode": {
    "name": "ipython",
    "version": 3
   },
   "file_extension": ".py",
   "mimetype": "text/x-python",
   "name": "python",
   "nbconvert_exporter": "python",
   "pygments_lexer": "ipython3",
   "version": "3.8.3"
  }
 },
 "nbformat": 4,
 "nbformat_minor": 4
}
