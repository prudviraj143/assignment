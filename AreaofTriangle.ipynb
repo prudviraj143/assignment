{
 "cells": [
  {
   "cell_type": "code",
   "execution_count": 1,
   "metadata": {},
   "outputs": [
    {
     "name": "stdout",
     "output_type": "stream",
     "text": [
      "Breadth of triangle is 4\n",
      "Height of triangle is 7\n",
      "Area of Triangle is  14.0\n"
     ]
    }
   ],
   "source": [
    "b=float(input(\"Breadth of triangle is \"))\n",
    "h=float(input(\"Height of triangle is \"))\n",
    "A=(b*h)/2\n",
    "print(\"Area of Triangle is \",A)"
   ]
  },
  {
   "cell_type": "code",
   "execution_count": null,
   "metadata": {},
   "outputs": [],
   "source": []
  }
 ],
 "metadata": {
  "kernelspec": {
   "display_name": "Python 3",
   "language": "python",
   "name": "python3"
  },
  "language_info": {
   "codemirror_mode": {
    "name": "ipython",
    "version": 3
   },
   "file_extension": ".py",
   "mimetype": "text/x-python",
   "name": "python",
   "nbconvert_exporter": "python",
   "pygments_lexer": "ipython3",
   "version": "3.8.3"
  }
 },
 "nbformat": 4,
 "nbformat_minor": 4
}
