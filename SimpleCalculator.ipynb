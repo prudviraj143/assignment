{
 "cells": [
  {
   "cell_type": "code",
   "execution_count": 3,
   "metadata": {},
   "outputs": [
    {
     "name": "stdout",
     "output_type": "stream",
     "text": [
      "Enter the value for a 2.5\n",
      "Enter The Value For b 3\n",
      "Addition of 2.5 and 3.0 is 5.5\n",
      "Subtraction of 2.5 and 3.0 is -0.5\n",
      "Multiplication of 2.5 and 3.0 is 7.5\n",
      "Division of  2.5 by 3.0 is 0.8333333333333334\n",
      "Exponent of  2.5 to the power of  3.0 is 15.625\n",
      "Modulus of  2.5 and 3.0 is 2.5\n",
      "Floor division of  2.5 by 3.0 is  0.0\n"
     ]
    }
   ],
   "source": [
    "a=float(input(\"Enter the value for a \"))\n",
    "b=float(input(\"Enter The Value For b \"))\n",
    "print(\"Addition of\",a,\"and\",b,\"is\",a+b)\n",
    "print(\"Subtraction of\",a,\"and\",b,\"is\",a-b)\n",
    "print(\"Multiplication of\",a,\"and\",b,\"is\",a*b)\n",
    "print(\"Division of \",a,\"by\",b,\"is\",a/b)\n",
    "print(\"Exponent of \",a,\"to the power of \",b,\"is\",a**b)\n",
    "print(\"Modulus of \",a,\"and\",b,\"is\",a%b)\n",
    "print(\"Floor division of \",a,\"by\",b,\"is \",a//b)"
   ]
  },
  {
   "cell_type": "code",
   "execution_count": null,
   "metadata": {},
   "outputs": [],
   "source": []
  }
 ],
 "metadata": {
  "kernelspec": {
   "display_name": "Python 3",
   "language": "python",
   "name": "python3"
  },
  "language_info": {
   "codemirror_mode": {
    "name": "ipython",
    "version": 3
   },
   "file_extension": ".py",
   "mimetype": "text/x-python",
   "name": "python",
   "nbconvert_exporter": "python",
   "pygments_lexer": "ipython3",
   "version": "3.8.3"
  }
 },
 "nbformat": 4,
 "nbformat_minor": 4
}
